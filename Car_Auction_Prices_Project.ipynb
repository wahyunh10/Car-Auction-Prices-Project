{
  "nbformat": 4,
  "nbformat_minor": 0,
  "metadata": {
    "colab": {
      "name": "Car Auction Prices Project.ipynb",
      "provenance": [],
      "authorship_tag": "ABX9TyP220Xg6KBU44SLuunnq7+L",
      "include_colab_link": true
    },
    "kernelspec": {
      "name": "python3",
      "display_name": "Python 3"
    },
    "language_info": {
      "name": "python"
    }
  },
  "cells": [
    {
      "cell_type": "markdown",
      "metadata": {
        "id": "view-in-github",
        "colab_type": "text"
      },
      "source": [
        "<a href=\"https://colab.research.google.com/github/wahyunh10/Car-Auction-Prices-Project/blob/main/Car_Auction_Prices_Project.ipynb\" target=\"_parent\"><img src=\"https://colab.research.google.com/assets/colab-badge.svg\" alt=\"Open In Colab\"/></a>"
      ]
    },
    {
      "cell_type": "markdown",
      "source": [
        "# **Car Auction Prices Project**"
      ],
      "metadata": {
        "id": "yKhrbC_qm4J9"
      }
    },
    {
      "cell_type": "markdown",
      "source": [
        "**In this project, there are 4 steps that I do:**\n",
        "\n",
        "1. Data Preparation (Data Cleaning)\n",
        "  * Extract Raw Data\n",
        "  * Fill and Drop Null Values\n",
        "  * Standardization Values\n",
        "  * Load Clean Data to CSV and Local MySQL Database\n",
        "2. Exploration Data Analysis\n",
        "  * Find Insight using Matplotlib and Seaborn\n",
        "  * Outlier Analysis\n",
        "  * Find Best and Worst Seller using Quantile Analysis\n",
        "3. Machine Learning Modelling\n",
        "  * Prediction Prices Cars using Regression\n",
        "  * Clustering Quality of Cars using KMeans Clustering\n",
        "4. Hypothesis Testing using MannWhitneyU"
      ],
      "metadata": {
        "id": "bMe6_PsoocaN"
      }
    },
    {
      "cell_type": "markdown",
      "source": [
        "The dataset contains historical car auction sales prices, scraped from the outside internet sources collected in 2015. This dataset taken from kaggle (https://www.kaggle.com/tunguz/used-car-auction-prices)."
      ],
      "metadata": {
        "id": "qMuGyksyo34q"
      }
    },
    {
      "cell_type": "markdown",
      "source": [
        "This dataset contains 491641 rows and 15 columns:\n",
        "\n",
        "* year : information of year production of the car\n",
        "* make : brand of the car\n",
        "* model : model of the brand car\n",
        "* trim : spesific model of the car\n",
        "* body : body type of the car\n",
        "* transmission : transmission type of the car\n",
        "* vin : unique id of the car\n",
        "* state : code state where the transaction happened\n",
        "* condition : rating condition of the car\n",
        "* odometer : total distance of the car\n",
        "* color : body color of the car\n",
        "* interior : interior color of the car\n",
        "* seller : place that sold the car\n",
        "* mmr : market price of the car\n",
        "* sellingprice : price of the car\n",
        "* saledate : date when the car sold"
      ],
      "metadata": {
        "id": "whXzS5CAo6yS"
      }
    },
    {
      "cell_type": "markdown",
      "source": [
        "# **Data Preparation**"
      ],
      "metadata": {
        "id": "E4u2NqEet2rJ"
      }
    },
    {
      "cell_type": "code",
      "execution_count": 1,
      "metadata": {
        "id": "3ca7QtQHm1KU"
      },
      "outputs": [],
      "source": [
        "# Import needed libraries\n",
        "import pandas as pd\n",
        "import numpy as np\n",
        "import re\n",
        "import seaborn as sns\n",
        "import matplotlib.pyplot as plt\n",
        "import warnings\n",
        "warnings.filterwarnings('ignore')"
      ]
    },
    {
      "cell_type": "markdown",
      "source": [
        "**Import raw data from csv**"
      ],
      "metadata": {
        "id": "u-jeL3XKt9tz"
      }
    },
    {
      "cell_type": "code",
      "source": [
        "df_source = pd.read_csv(\".csv\",sep='\\t')\n",
        "df_source.head()"
      ],
      "metadata": {
        "id": "Wh-FJGdjuBVR"
      },
      "execution_count": null,
      "outputs": []
    },
    {
      "cell_type": "code",
      "source": [
        "# Check length of every row in dataset\n",
        "idx = []\n",
        "for i in range (df_source.shape[0]):\n",
        "    l = len(df_source.iloc[i][0].split(','))\n",
        "    idx.append(l)\n",
        "    \n",
        "# Give temporary name columns \n",
        "tempcol = []\n",
        "for i in range((max(idx))):\n",
        "    tempcol.append(i)\n",
        "\n",
        "df_csv = pd.read_csv(\"car_prices.csv\",names=tempcol) \n",
        "\n",
        "# Extract first row value to make it into columns name\n",
        "col = []\n",
        "tempcol = ['temp1','temp2']\n",
        "for i in df_csv.iloc[0].values:\n",
        "    if str(i) != 'nan':\n",
        "        col.append(i)\n",
        "col.extend(tempcol) \n",
        "\n",
        "df = df_csv.drop(0,axis=0)\n",
        "df.columns=col\n",
        "df.reset_index(drop=True,inplace=True)\n",
        "df.head()"
      ],
      "metadata": {
        "id": "X2C1jrTTEU7w"
      },
      "execution_count": null,
      "outputs": []
    },
    {
      "cell_type": "markdown",
      "source": [
        "**Check data after columns problem solved**"
      ],
      "metadata": {
        "id": "en09n5OkEXnp"
      }
    },
    {
      "cell_type": "code",
      "source": [
        "def data_info():\n",
        "    listkolom=[]\n",
        "    for i in (df.columns):\n",
        "        listkolom.append(i)\n",
        "\n",
        "    listtipe=[]\n",
        "    for i in (df.columns):\n",
        "        listtipe.append(df[i].dtypes)\n",
        "\n",
        "    nullmany = df.isnull().sum().values\n",
        "\n",
        "    nullpctx = []\n",
        "    for i in nullmany:\n",
        "        nullpctx.append(round(i/len(df),4)*100)\n",
        "\n",
        "    unik = df.nunique().values\n",
        "\n",
        "    samp = []\n",
        "    for i in df.columns:\n",
        "        samp.append(df[i].sample().values)\n",
        "\n",
        "    return pd.DataFrame({\n",
        "        'dataFeatures' : listkolom,\n",
        "        'dataType' : listtipe,\n",
        "        'null' : nullmany,\n",
        "        'nullpct' : nullpctx,\n",
        "        'unique' : unik,\n",
        "        'SampleValue' : samp\n",
        "    })\n",
        "\n",
        "data_info()"
      ],
      "metadata": {
        "id": "i1KiEZc8EYY4"
      },
      "execution_count": null,
      "outputs": []
    },
    {
      "cell_type": "markdown",
      "source": [
        "\n",
        "\n",
        "> It looks that data successfully stored into dataframe, and only have 21 anomaly rows that stored in temp1 column. Column temp2 is empty and will be deleted later.\n",
        "\n"
      ],
      "metadata": {
        "id": "jf8Dc-wIEdRD"
      }
    },
    {
      "cell_type": "markdown",
      "source": [
        "**Process to tackle columns overlapping problem**"
      ],
      "metadata": {
        "id": "bTTQMYcCE2GE"
      }
    },
    {
      "cell_type": "code",
      "source": [
        "# Function to make all value has lowercase word\n",
        "def LowerVal(col):\n",
        "    newval = []\n",
        "    for i in df[col].values:\n",
        "        if str(i)=='nan':\n",
        "            newval.append(np.nan)\n",
        "        else:\n",
        "            cap = str(i).lower()\n",
        "            newval.append(cap)\n",
        "    df[col]=newval"
      ],
      "metadata": {
        "id": "elZPnyPGEaOs"
      },
      "execution_count": null,
      "outputs": []
    },
    {
      "cell_type": "code",
      "source": [
        "# Apply to all objects columns\n",
        "col_to_clean = df.select_dtypes(include='object').columns\n",
        "for i in col_to_clean:\n",
        "    LowerVal(i)"
      ],
      "metadata": {
        "id": "IVQXC2Z0E5sl"
      },
      "execution_count": null,
      "outputs": []
    },
    {
      "cell_type": "code",
      "source": [
        "# Fix some value in 'make' columns\n",
        "makeFix = []\n",
        "for i in range(df.shape[0]):\n",
        "    if str(df['make'][i]) == 'nan':\n",
        "        makeFix.append(np.nan)\n",
        "    else:\n",
        "        newMake = df['make'][i].split()[0]\n",
        "        makeFix.append(newMake)\n",
        "\n",
        "df['make'] = makeFix\n",
        "\n",
        "df.loc[df[df['make']=='Mercedes-b'].index,'make'] = 'Mercedes-benz'\n",
        "df.loc[df[df['make']=='Mercedes'].index,'make'] = 'Mercedes-benz'\n",
        "df.loc[df[df['make']=='Land'].index,'make'] = 'Landrover'\n",
        "df.loc[df[df['make']=='Chev'].index,'make'] = 'Chevrolet'"
      ],
      "metadata": {
        "id": "ZTG9E-nuE7ru"
      },
      "execution_count": null,
      "outputs": []
    },
    {
      "cell_type": "code",
      "source": [
        "df['transmission'].value_counts()"
      ],
      "metadata": {
        "id": "6gEkoqVtE9Ll"
      },
      "execution_count": null,
      "outputs": []
    },
    {
      "cell_type": "markdown",
      "source": [
        "> From transmission column value, we can take conclusion rows that have 'sedan' as it value is the anomaly rows."
      ],
      "metadata": {
        "id": "pyG_kta0FB5Z"
      }
    },
    {
      "cell_type": "code",
      "source": [
        "# Take rows that have 'sedan' as it value\n",
        "enum=list(enumerate(df['transmission']=='sedan'))\n",
        "idx_inv = []\n",
        "for idx,val in enum:\n",
        "    if val == True:\n",
        "        idx_inv.append(idx)\n",
        "        \n",
        "inv_data = df.iloc[idx_inv]\n",
        "\n",
        "# drop body column in invalid dataframe\n",
        "inv_data.drop(['body'],1,inplace=True)\n",
        "inv_data.head()"
      ],
      "metadata": {
        "id": "j5IoTRdJFE0r"
      },
      "execution_count": null,
      "outputs": []
    },
    {
      "cell_type": "markdown",
      "source": [
        "> body column in invalid dataframe dropped because it contain wrong information"
      ],
      "metadata": {
        "id": "ZHI-Ebu9FGrd"
      }
    },
    {
      "cell_type": "code",
      "source": [
        "df.drop(['temp2'],1,inplace=True)\n",
        "inv_data.columns=df.columns\n",
        "\n",
        "# Re-fill value for invalid rows\n",
        "newval = []\n",
        "for i in range (inv_data.shape[0]):\n",
        "    listedval = list(inv_data.iloc[i].values)\n",
        "    newval.append(listedval)\n",
        "    \n",
        "df.iloc[idx_inv] = newval\n",
        "df.drop(['temp1'],1,inplace=True)\n",
        "\n",
        "# Check dataframe after problem invalid value rows solved \n",
        "df.info()"
      ],
      "metadata": {
        "id": "1niPSepVFHnf"
      },
      "execution_count": null,
      "outputs": []
    }
  ]
}