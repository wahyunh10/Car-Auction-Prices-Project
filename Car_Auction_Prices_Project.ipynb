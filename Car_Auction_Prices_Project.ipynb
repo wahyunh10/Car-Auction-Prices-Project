{
  "nbformat": 4,
  "nbformat_minor": 0,
  "metadata": {
    "colab": {
      "name": "Car Auction Prices Project.ipynb",
      "provenance": [],
      "collapsed_sections": [],
      "authorship_tag": "ABX9TyMRQ2lHc/IO1GhkbsZIyVel",
      "include_colab_link": true
    },
    "kernelspec": {
      "name": "python3",
      "display_name": "Python 3"
    },
    "language_info": {
      "name": "python"
    }
  },
  "cells": [
    {
      "cell_type": "markdown",
      "metadata": {
        "id": "view-in-github",
        "colab_type": "text"
      },
      "source": [
        "<a href=\"https://colab.research.google.com/github/wahyunh10/Car-Auction-Prices-Project/blob/main/Car_Auction_Prices_Project.ipynb\" target=\"_parent\"><img src=\"https://colab.research.google.com/assets/colab-badge.svg\" alt=\"Open In Colab\"/></a>"
      ]
    },
    {
      "cell_type": "markdown",
      "source": [
        "# **Car Auction Prices Project**"
      ],
      "metadata": {
        "id": "yKhrbC_qm4J9"
      }
    },
    {
      "cell_type": "markdown",
      "source": [
        "1. Role: Sebagai tim data scientist dalam suatu perusahaan bernama PT.Dats Your Future yang berperan sebagai dealer jual beli mobil bekas yang bertanggung jawab untuk memberikan rekomendasi harga mobil bekas berdasarkan data histori pembelian 2 tahun sebelumnya yang ada di Amerika yang diasumsikan ideal karena mobil berhasil dibeli dan dijual kembali ke konsumen dengan harga ideal.\n",
        "2. Masalah:\n",
        "  * Perusahaan menentukan harga beli mobil bekas tidak terstandar (tidak sesuai kondisi mobil sebenarnya) sehingga mendapat harga mobil bekas yang berbeda dari perspektif yang bias oleh setiap staff.\n",
        "   * Proses screening dan negosiasi yang cukup lama akhirnya customer menjadi ragu dan cenderung tidak menjual mobil nya ke perusahaan kita.\n",
        "3. Goal: Bisa membantu perusahaan menentukan harga beli mobil bekas yang dapat terstandarkan berdasarkan model machine learning.\n",
        "4. Objective: Membuat tools / model machine learning untuk membantu memprediksi harga mobil berdasarkan kondisi sebenarnya.\n",
        "5. usiness Metrics: Sales Pembelian dan Efisiensi Waktu"
      ],
      "metadata": {
        "id": "FI4qfirdRWaA"
      }
    },
    {
      "cell_type": "markdown",
      "source": [
        "# **Final Project - EDA, Insight, Visualization**"
      ],
      "metadata": {
        "id": "BDGHnwFPRnU-"
      }
    },
    {
      "cell_type": "code",
      "source": [
        "import numpy as np\n",
        "import pandas as pd\n",
        "import matplotlib.pyplot as plt\n",
        "import seaborn as sns"
      ],
      "metadata": {
        "id": "Mr-sMqEcRqos"
      },
      "execution_count": null,
      "outputs": []
    },
    {
      "cell_type": "markdown",
      "source": [
        "# **Mengubah parameter default matplotlib**\n",
        "Parameter default matplotlib dapat diubah dengan rcParams sebagai berikut"
      ],
      "metadata": {
        "id": "xVti2BrYRxL2"
      }
    },
    {
      "cell_type": "code",
      "source": [
        "from matplotlib import rcParams\n",
        "\n",
        "rcParams['figure.figsize'] = 12, 4\n",
        "rcParams['lines.linewidth'] = 3\n",
        "rcParams['xtick.labelsize'] = 'x-large'\n",
        "rcParams['ytick.labelsize'] = 'x-large'"
      ],
      "metadata": {
        "id": "JiAw1hZxR25T"
      },
      "execution_count": null,
      "outputs": []
    },
    {
      "cell_type": "markdown",
      "source": [
        "# **Load dataset**\n",
        "Kita akan melihat dataset prediksi harga mobil"
      ],
      "metadata": {
        "id": "tJnrwNGZR6k_"
      }
    },
    {
      "cell_type": "markdown",
      "source": [
        "The dataset contains historical car auction sales prices, scraped from the outside internet sources collected in 2015. This dataset taken from kaggle (https://www.kaggle.com/tunguz/used-car-auction-prices)."
      ],
      "metadata": {
        "id": "qMuGyksyo34q"
      }
    },
    {
      "cell_type": "markdown",
      "source": [
        "This dataset contains 491641 rows and 15 columns:\n",
        "\n",
        "* year : information of year production of the car\n",
        "* make : brand of the car\n",
        "* model : model of the brand car\n",
        "* trim : spesific model of the car\n",
        "* body : body type of the car\n",
        "* transmission : transmission type of the car\n",
        "* vin : unique id of the car\n",
        "* state : code state where the transaction happened\n",
        "* condition : rating condition of the car\n",
        "* odometer : total distance of the car\n",
        "* color : body color of the car\n",
        "* interior : interior color of the car\n",
        "* seller : place that sold the car\n",
        "* mmr : market price of the car\n",
        "* sellingprice : price of the car\n",
        "* saledate : date when the car sold"
      ],
      "metadata": {
        "id": "whXzS5CAo6yS"
      }
    },
    {
      "cell_type": "code",
      "source": [
        "df = pd.read_csv(\"car_prices.csv\")\n",
        "df.head()"
      ],
      "metadata": {
        "colab": {
          "base_uri": "https://localhost:8080/",
          "height": 722
        },
        "id": "Wh-FJGdjuBVR",
        "outputId": "e3903a64-1146-4067-c788-6b3eb2938448"
      },
      "execution_count": null,
      "outputs": [
        {
          "output_type": "execute_result",
          "data": {
            "text/plain": [
              "   year   make                model        trim   body transmission  \\\n",
              "0  2015    Kia              Sorento          LX    SUV    automatic   \n",
              "1  2015    Kia              Sorento          LX    SUV    automatic   \n",
              "2  2014    BMW             3 Series  328i SULEV  Sedan    automatic   \n",
              "3  2015  Volvo                  S60          T5  Sedan    automatic   \n",
              "4  2014    BMW  6 Series Gran Coupe        650i  Sedan    automatic   \n",
              "\n",
              "                 vin state condition  odometer  color interior  \\\n",
              "0  5xyktca69fg566472    ca       5.0   16639.0  white    black   \n",
              "1  5xyktca69fg561319    ca       5.0    9393.0  white    beige   \n",
              "2  wba3c1c51ek116351    ca       4.5    1331.0   gray    black   \n",
              "3  yv1612tb4f1310987    ca       4.1   14282.0  white    black   \n",
              "4  wba6b2c57ed129731    ca       4.3    2641.0   gray    black   \n",
              "\n",
              "                                   seller    mmr  sellingprice  \\\n",
              "0                 kia motors america, inc  20500         21500   \n",
              "1                 kia motors america, inc  20800         21500   \n",
              "2  financial services remarketing (lease)  31900         30000   \n",
              "3                 volvo na rep/world omni  27500         27750   \n",
              "4  financial services remarketing (lease)  66000         67000   \n",
              "\n",
              "                                  saledate Unnamed: 16  \n",
              "0  Tue Dec 16 2014 12:30:00 GMT-0800 (PST)         NaN  \n",
              "1  Tue Dec 16 2014 12:30:00 GMT-0800 (PST)         NaN  \n",
              "2  Thu Jan 15 2015 04:30:00 GMT-0800 (PST)         NaN  \n",
              "3  Thu Jan 29 2015 04:30:00 GMT-0800 (PST)         NaN  \n",
              "4  Thu Dec 18 2014 12:30:00 GMT-0800 (PST)         NaN  "
            ],
            "text/html": [
              "\n",
              "  <div id=\"df-ef21c77d-65ed-4ed9-a6a5-1f1a5597e05d\">\n",
              "    <div class=\"colab-df-container\">\n",
              "      <div>\n",
              "<style scoped>\n",
              "    .dataframe tbody tr th:only-of-type {\n",
              "        vertical-align: middle;\n",
              "    }\n",
              "\n",
              "    .dataframe tbody tr th {\n",
              "        vertical-align: top;\n",
              "    }\n",
              "\n",
              "    .dataframe thead th {\n",
              "        text-align: right;\n",
              "    }\n",
              "</style>\n",
              "<table border=\"1\" class=\"dataframe\">\n",
              "  <thead>\n",
              "    <tr style=\"text-align: right;\">\n",
              "      <th></th>\n",
              "      <th>year</th>\n",
              "      <th>make</th>\n",
              "      <th>model</th>\n",
              "      <th>trim</th>\n",
              "      <th>body</th>\n",
              "      <th>transmission</th>\n",
              "      <th>vin</th>\n",
              "      <th>state</th>\n",
              "      <th>condition</th>\n",
              "      <th>odometer</th>\n",
              "      <th>color</th>\n",
              "      <th>interior</th>\n",
              "      <th>seller</th>\n",
              "      <th>mmr</th>\n",
              "      <th>sellingprice</th>\n",
              "      <th>saledate</th>\n",
              "      <th>Unnamed: 16</th>\n",
              "    </tr>\n",
              "  </thead>\n",
              "  <tbody>\n",
              "    <tr>\n",
              "      <th>0</th>\n",
              "      <td>2015</td>\n",
              "      <td>Kia</td>\n",
              "      <td>Sorento</td>\n",
              "      <td>LX</td>\n",
              "      <td>SUV</td>\n",
              "      <td>automatic</td>\n",
              "      <td>5xyktca69fg566472</td>\n",
              "      <td>ca</td>\n",
              "      <td>5.0</td>\n",
              "      <td>16639.0</td>\n",
              "      <td>white</td>\n",
              "      <td>black</td>\n",
              "      <td>kia motors america, inc</td>\n",
              "      <td>20500</td>\n",
              "      <td>21500</td>\n",
              "      <td>Tue Dec 16 2014 12:30:00 GMT-0800 (PST)</td>\n",
              "      <td>NaN</td>\n",
              "    </tr>\n",
              "    <tr>\n",
              "      <th>1</th>\n",
              "      <td>2015</td>\n",
              "      <td>Kia</td>\n",
              "      <td>Sorento</td>\n",
              "      <td>LX</td>\n",
              "      <td>SUV</td>\n",
              "      <td>automatic</td>\n",
              "      <td>5xyktca69fg561319</td>\n",
              "      <td>ca</td>\n",
              "      <td>5.0</td>\n",
              "      <td>9393.0</td>\n",
              "      <td>white</td>\n",
              "      <td>beige</td>\n",
              "      <td>kia motors america, inc</td>\n",
              "      <td>20800</td>\n",
              "      <td>21500</td>\n",
              "      <td>Tue Dec 16 2014 12:30:00 GMT-0800 (PST)</td>\n",
              "      <td>NaN</td>\n",
              "    </tr>\n",
              "    <tr>\n",
              "      <th>2</th>\n",
              "      <td>2014</td>\n",
              "      <td>BMW</td>\n",
              "      <td>3 Series</td>\n",
              "      <td>328i SULEV</td>\n",
              "      <td>Sedan</td>\n",
              "      <td>automatic</td>\n",
              "      <td>wba3c1c51ek116351</td>\n",
              "      <td>ca</td>\n",
              "      <td>4.5</td>\n",
              "      <td>1331.0</td>\n",
              "      <td>gray</td>\n",
              "      <td>black</td>\n",
              "      <td>financial services remarketing (lease)</td>\n",
              "      <td>31900</td>\n",
              "      <td>30000</td>\n",
              "      <td>Thu Jan 15 2015 04:30:00 GMT-0800 (PST)</td>\n",
              "      <td>NaN</td>\n",
              "    </tr>\n",
              "    <tr>\n",
              "      <th>3</th>\n",
              "      <td>2015</td>\n",
              "      <td>Volvo</td>\n",
              "      <td>S60</td>\n",
              "      <td>T5</td>\n",
              "      <td>Sedan</td>\n",
              "      <td>automatic</td>\n",
              "      <td>yv1612tb4f1310987</td>\n",
              "      <td>ca</td>\n",
              "      <td>4.1</td>\n",
              "      <td>14282.0</td>\n",
              "      <td>white</td>\n",
              "      <td>black</td>\n",
              "      <td>volvo na rep/world omni</td>\n",
              "      <td>27500</td>\n",
              "      <td>27750</td>\n",
              "      <td>Thu Jan 29 2015 04:30:00 GMT-0800 (PST)</td>\n",
              "      <td>NaN</td>\n",
              "    </tr>\n",
              "    <tr>\n",
              "      <th>4</th>\n",
              "      <td>2014</td>\n",
              "      <td>BMW</td>\n",
              "      <td>6 Series Gran Coupe</td>\n",
              "      <td>650i</td>\n",
              "      <td>Sedan</td>\n",
              "      <td>automatic</td>\n",
              "      <td>wba6b2c57ed129731</td>\n",
              "      <td>ca</td>\n",
              "      <td>4.3</td>\n",
              "      <td>2641.0</td>\n",
              "      <td>gray</td>\n",
              "      <td>black</td>\n",
              "      <td>financial services remarketing (lease)</td>\n",
              "      <td>66000</td>\n",
              "      <td>67000</td>\n",
              "      <td>Thu Dec 18 2014 12:30:00 GMT-0800 (PST)</td>\n",
              "      <td>NaN</td>\n",
              "    </tr>\n",
              "  </tbody>\n",
              "</table>\n",
              "</div>\n",
              "      <button class=\"colab-df-convert\" onclick=\"convertToInteractive('df-ef21c77d-65ed-4ed9-a6a5-1f1a5597e05d')\"\n",
              "              title=\"Convert this dataframe to an interactive table.\"\n",
              "              style=\"display:none;\">\n",
              "        \n",
              "  <svg xmlns=\"http://www.w3.org/2000/svg\" height=\"24px\"viewBox=\"0 0 24 24\"\n",
              "       width=\"24px\">\n",
              "    <path d=\"M0 0h24v24H0V0z\" fill=\"none\"/>\n",
              "    <path d=\"M18.56 5.44l.94 2.06.94-2.06 2.06-.94-2.06-.94-.94-2.06-.94 2.06-2.06.94zm-11 1L8.5 8.5l.94-2.06 2.06-.94-2.06-.94L8.5 2.5l-.94 2.06-2.06.94zm10 10l.94 2.06.94-2.06 2.06-.94-2.06-.94-.94-2.06-.94 2.06-2.06.94z\"/><path d=\"M17.41 7.96l-1.37-1.37c-.4-.4-.92-.59-1.43-.59-.52 0-1.04.2-1.43.59L10.3 9.45l-7.72 7.72c-.78.78-.78 2.05 0 2.83L4 21.41c.39.39.9.59 1.41.59.51 0 1.02-.2 1.41-.59l7.78-7.78 2.81-2.81c.8-.78.8-2.07 0-2.86zM5.41 20L4 18.59l7.72-7.72 1.47 1.35L5.41 20z\"/>\n",
              "  </svg>\n",
              "      </button>\n",
              "      \n",
              "  <style>\n",
              "    .colab-df-container {\n",
              "      display:flex;\n",
              "      flex-wrap:wrap;\n",
              "      gap: 12px;\n",
              "    }\n",
              "\n",
              "    .colab-df-convert {\n",
              "      background-color: #E8F0FE;\n",
              "      border: none;\n",
              "      border-radius: 50%;\n",
              "      cursor: pointer;\n",
              "      display: none;\n",
              "      fill: #1967D2;\n",
              "      height: 32px;\n",
              "      padding: 0 0 0 0;\n",
              "      width: 32px;\n",
              "    }\n",
              "\n",
              "    .colab-df-convert:hover {\n",
              "      background-color: #E2EBFA;\n",
              "      box-shadow: 0px 1px 2px rgba(60, 64, 67, 0.3), 0px 1px 3px 1px rgba(60, 64, 67, 0.15);\n",
              "      fill: #174EA6;\n",
              "    }\n",
              "\n",
              "    [theme=dark] .colab-df-convert {\n",
              "      background-color: #3B4455;\n",
              "      fill: #D2E3FC;\n",
              "    }\n",
              "\n",
              "    [theme=dark] .colab-df-convert:hover {\n",
              "      background-color: #434B5C;\n",
              "      box-shadow: 0px 1px 3px 1px rgba(0, 0, 0, 0.15);\n",
              "      filter: drop-shadow(0px 1px 2px rgba(0, 0, 0, 0.3));\n",
              "      fill: #FFFFFF;\n",
              "    }\n",
              "  </style>\n",
              "\n",
              "      <script>\n",
              "        const buttonEl =\n",
              "          document.querySelector('#df-ef21c77d-65ed-4ed9-a6a5-1f1a5597e05d button.colab-df-convert');\n",
              "        buttonEl.style.display =\n",
              "          google.colab.kernel.accessAllowed ? 'block' : 'none';\n",
              "\n",
              "        async function convertToInteractive(key) {\n",
              "          const element = document.querySelector('#df-ef21c77d-65ed-4ed9-a6a5-1f1a5597e05d');\n",
              "          const dataTable =\n",
              "            await google.colab.kernel.invokeFunction('convertToInteractive',\n",
              "                                                     [key], {});\n",
              "          if (!dataTable) return;\n",
              "\n",
              "          const docLinkHtml = 'Like what you see? Visit the ' +\n",
              "            '<a target=\"_blank\" href=https://colab.research.google.com/notebooks/data_table.ipynb>data table notebook</a>'\n",
              "            + ' to learn more about interactive tables.';\n",
              "          element.innerHTML = '';\n",
              "          dataTable['output_type'] = 'display_data';\n",
              "          await google.colab.output.renderOutput(dataTable, element);\n",
              "          const docLink = document.createElement('div');\n",
              "          docLink.innerHTML = docLinkHtml;\n",
              "          element.appendChild(docLink);\n",
              "        }\n",
              "      </script>\n",
              "    </div>\n",
              "  </div>\n",
              "  "
            ]
          },
          "metadata": {},
          "execution_count": 7
        }
      ]
    },
    {
      "cell_type": "markdown",
      "source": [
        "# **Descriptive Statistics**"
      ],
      "metadata": {
        "id": "RM_3MFKcSMr7"
      }
    },
    {
      "cell_type": "markdown",
      "source": [
        "Hal pertama yang biasanya dilakukan dalam EDA adalah mengecek tipe data setiap kolom dan jumlah nilai yang hilang. Hal ini bisa kita lakukan dengan menggunakan df.info()."
      ],
      "metadata": {
        "id": "acBBsztVSQ1I"
      }
    },
    {
      "cell_type": "code",
      "source": [
        "df.info()"
      ],
      "metadata": {
        "colab": {
          "base_uri": "https://localhost:8080/"
        },
        "id": "WpU4d76CR-zB",
        "outputId": "61957d01-a3cd-4634-e44f-057abeb6bbf5"
      },
      "execution_count": null,
      "outputs": [
        {
          "output_type": "stream",
          "name": "stdout",
          "text": [
            "<class 'pandas.core.frame.DataFrame'>\n",
            "RangeIndex: 558837 entries, 0 to 558836\n",
            "Data columns (total 17 columns):\n",
            " #   Column        Non-Null Count   Dtype  \n",
            "---  ------        --------------   -----  \n",
            " 0   year          558837 non-null  int64  \n",
            " 1   make          548536 non-null  object \n",
            " 2   model         548438 non-null  object \n",
            " 3   trim          548186 non-null  object \n",
            " 4   body          545642 non-null  object \n",
            " 5   transmission  493484 non-null  object \n",
            " 6   vin           558833 non-null  object \n",
            " 7   state         558837 non-null  object \n",
            " 8   condition     547043 non-null  object \n",
            " 9   odometer      558743 non-null  float64\n",
            " 10  color         558088 non-null  object \n",
            " 11  interior      558088 non-null  object \n",
            " 12  seller        558837 non-null  object \n",
            " 13  mmr           558837 non-null  object \n",
            " 14  sellingprice  558837 non-null  int64  \n",
            " 15  saledate      558837 non-null  object \n",
            " 16  Unnamed: 16   25 non-null      object \n",
            "dtypes: float64(1), int64(2), object(14)\n",
            "memory usage: 72.5+ MB\n"
          ]
        }
      ]
    },
    {
      "cell_type": "markdown",
      "source": [
        "Kita dapat melihat bahwa:\n",
        "\n",
        "1. Dataframe memiliki total 558811 baris dan 16 kolom\n",
        "2. Target output sepertinya adalah kolom `sellingprice` dengan tipe data `int64`\n",
        "3. Berarti sisanya adalah feature\n",
        "Dari informasi di atas, kita bisa pisahkan kolom kategorical dan numerical sebagai berikut:"
      ],
      "metadata": {
        "id": "NPTOUD3TSXuW"
      }
    },
    {
      "cell_type": "markdown",
      "source": [
        "Dari informasi di atas, kita bisa pisahkan kolom kategorical dan numerical sebagai berikut:"
      ],
      "metadata": {
        "id": "jnDMc-xASj8g"
      }
    },
    {
      "cell_type": "code",
      "source": [
        "cats = ['make', 'model', 'trim', 'body', 'transmission','vin','state','color','interior','seller','saledate']\n",
        "nums = ['year', 'condition', 'odometer', 'mmr', 'sellingprice']"
      ],
      "metadata": {
        "id": "rLEXeT00R-42"
      },
      "execution_count": null,
      "outputs": []
    },
    {
      "cell_type": "markdown",
      "source": [
        "# **Sampling untuk memahami data**"
      ],
      "metadata": {
        "id": "uKvtOGTxS9ah"
      }
    },
    {
      "cell_type": "markdown",
      "source": [
        "Setelah mengetahui kolom apa saja yang ada di dalam dataset, kita lakukan sampling untuk memastikan apakah isi kolomnya sesuai ekspektasi. Biasakan lakukan ini beberapa kali karena seringkali apabila ada keanehan tidak akan keluar pada sampling pertama.\n",
        "\n",
        "Sampling dapat dilakukan dengan menggunakan `df.sample()`"
      ],
      "metadata": {
        "id": "0HqayUIVS_hN"
      }
    },
    {
      "cell_type": "code",
      "source": [
        "df.sample(10)"
      ],
      "metadata": {
        "id": "7sP1TZ4VTB60"
      },
      "execution_count": null,
      "outputs": []
    },
    {
      "cell_type": "markdown",
      "source": [
        "Beberapa pengamatan:\n",
        "\n",
        "* Target kita, `sellingprice` benar bertipe int64"
      ],
      "metadata": {
        "id": "NbyVmRq_TFFG"
      }
    },
    {
      "cell_type": "markdown",
      "source": [
        "# **Statistical summary**"
      ],
      "metadata": {
        "id": "7vDv5gk3HhcB"
      }
    },
    {
      "cell_type": "markdown",
      "source": [
        "Selanjutnya kita munculkan ringkasan statistik dataframe, baik untuk numerical dan categorical. Hal ini dilakukan untuk mengecek secara singkat akan keberadaan outlier dan karakteristik distribusi untuk feature numeric."
      ],
      "metadata": {
        "id": "Wq_LZHwMHkcl"
      }
    },
    {
      "cell_type": "code",
      "source": [
        "df[nums].describe()"
      ],
      "metadata": {
        "id": "Bmi643BtHlWy"
      },
      "execution_count": null,
      "outputs": []
    },
    {
      "cell_type": "code",
      "source": [
        "df[cats].describe()"
      ],
      "metadata": {
        "id": "9BZJ6Xq0HqGc"
      },
      "execution_count": null,
      "outputs": []
    },
    {
      "cell_type": "markdown",
      "source": [
        ""
      ],
      "metadata": {
        "id": "CICLMdDNHsE2"
      }
    },
    {
      "cell_type": "markdown",
      "source": [
        "Beberapa pengamatan dari *statistical summary* kolom kategorikal di atas:\n",
        "\n",
        "* Kolom `trim`,`vin`,`seller` memiliki jumlah nilai unik yang banyak, ada kemungkinan tidak terlalu berguna untuk modeling\n",
        "* Mayoritas dari data set ini yaitu menjual Mobil dari pabrikan (`make`) Ford, dengan model (`body`) sedan."
      ],
      "metadata": {
        "id": "Bx0yRbO-HsOE"
      }
    },
    {
      "cell_type": "markdown",
      "source": [
        "# **Value Counting**"
      ],
      "metadata": {
        "id": "OlQT-v2gIPTp"
      }
    },
    {
      "cell_type": "markdown",
      "source": [
        "Kita dapat memastikan pengamatan mengenai kolom-kolom `categorical` di atas dengan value counting"
      ],
      "metadata": {
        "id": "bDTwvRmYIUwZ"
      }
    },
    {
      "cell_type": "code",
      "source": [
        "for col in cats:\n",
        "    print(f'''Value count kolom {col}:''')\n",
        "    print(df[col].value_counts())\n",
        "    print()"
      ],
      "metadata": {
        "id": "Uoee3gUuIWcp"
      },
      "execution_count": null,
      "outputs": []
    },
    {
      "cell_type": "markdown",
      "source": [
        "**Duplicates and Unique**"
      ],
      "metadata": {
        "id": "8XcvnlhIIb3G"
      }
    },
    {
      "cell_type": "code",
      "source": [
        "duplicate_rows_df = df[df.duplicated()]\n",
        "print(\"number of duplicate rows: \", duplicate_rows_df.shape)"
      ],
      "metadata": {
        "id": "Aqa2O0lxIeIY"
      },
      "execution_count": null,
      "outputs": []
    },
    {
      "cell_type": "code",
      "source": [
        "duplicate_rows_df = df[df.duplicated()]\n",
        "print(\"number of duplicate rows: \", duplicate_rows_df.shape)"
      ],
      "metadata": {
        "id": "6wOPIy5QIfdA"
      },
      "execution_count": null,
      "outputs": []
    },
    {
      "cell_type": "code",
      "source": [
        "len(df.make.unique())"
      ],
      "metadata": {
        "id": "3wyc6Ku8IhhK"
      },
      "execution_count": null,
      "outputs": []
    },
    {
      "cell_type": "code",
      "source": [
        "# lowercase data make \n",
        "df.make = df.make.str.lower()\n",
        "len(df.make.unique())"
      ],
      "metadata": {
        "id": "4mjl7FTKIi5X"
      },
      "execution_count": null,
      "outputs": []
    },
    {
      "cell_type": "code",
      "source": [
        "plt.figure(figsize=(12,5))\n",
        "chart = sns.countplot(x=df.make)\n",
        "chart.set_xticklabels(chart.get_xticklabels(), rotation=90);"
      ],
      "metadata": {
        "id": "xMw-nwLPIkeS"
      },
      "execution_count": null,
      "outputs": []
    },
    {
      "cell_type": "markdown",
      "source": [
        "> Berdasarkan data diatas ditemukan insight, bahwasanya mobil dengan merek Ford menjadi mobil yang paling sering dijual\n",
        "\n"
      ],
      "metadata": {
        "id": "uAk0vE38InBp"
      }
    },
    {
      "cell_type": "code",
      "source": [
        "len(df.model.unique())"
      ],
      "metadata": {
        "id": "0-hDmbQ3Irxd"
      },
      "execution_count": null,
      "outputs": []
    },
    {
      "cell_type": "code",
      "source": [
        "# lowercase data make \n",
        "df.model = df.model.str.lower()\n",
        "len(df.model.unique())"
      ],
      "metadata": {
        "id": "TkK35sNQItry"
      },
      "execution_count": null,
      "outputs": []
    },
    {
      "cell_type": "code",
      "source": [
        "df.model.value_counts()"
      ],
      "metadata": {
        "id": "oTrp8ziCIu0e"
      },
      "execution_count": null,
      "outputs": []
    },
    {
      "cell_type": "code",
      "source": [
        "len(df.body.unique())"
      ],
      "metadata": {
        "id": "ZtIUhn1LIwQW"
      },
      "execution_count": null,
      "outputs": []
    },
    {
      "cell_type": "code",
      "source": [
        "df.body.unique()"
      ],
      "metadata": {
        "id": "dj9X1RcZIy9J"
      },
      "execution_count": null,
      "outputs": []
    },
    {
      "cell_type": "code",
      "source": [
        "# lowercase data body \n",
        "df.body = df.body.str.lower()\n",
        "len(df.body.unique())"
      ],
      "metadata": {
        "id": "Cekbas7_I1Fm"
      },
      "execution_count": null,
      "outputs": []
    },
    {
      "cell_type": "code",
      "source": [
        "df.body.value_counts().head(10)"
      ],
      "metadata": {
        "id": "ldIM8id9I2up"
      },
      "execution_count": null,
      "outputs": []
    },
    {
      "cell_type": "markdown",
      "source": [
        "Beberapa pengamatan pada proses diatas:\n",
        "\n",
        "* Tidak ada data yang bersifat duplikat\n",
        "* Beberapa data pada kolom `make` diubah menjadi lowercase sehingga jumlah data unique dari 97 berubah menajadi 67\n",
        "* Beberapa data pada kolom `model` diubah menjadi lowercase sehingga jumlah data unique dari 974 berubah menajadi 852\n",
        "* Beberapa data pada kolom `make` diubah menjadi lowercase sehingga jumlah data unique dari 87 berubah menjadi 46"
      ],
      "metadata": {
        "id": "HHzFt1_GI4vT"
      }
    },
    {
      "cell_type": "markdown",
      "source": [
        "# **Univariate Analysis**\n",
        "\n",
        "Setelah melakukan analisis sederhana tentang statistik deskriptif, sekarang kita fokus pada satu-persatu kolom dengan *Univariate Analysis*"
      ],
      "metadata": {
        "id": "xQGLbfc_JBtU"
      }
    },
    {
      "cell_type": "markdown",
      "source": [
        "# **Box plots**"
      ],
      "metadata": {
        "id": "4JtnbZRCJH-a"
      }
    },
    {
      "cell_type": "code",
      "source": [
        "for i in range(0, len(nums)):\n",
        "    plt.subplot(1, len(nums), i+1)\n",
        "    sns.boxplot(y=df[nums[i]], color='gray', orient='v')\n",
        "    plt.tight_layout()"
      ],
      "metadata": {
        "id": "qUtgIAolJHoY"
      },
      "execution_count": null,
      "outputs": []
    },
    {
      "cell_type": "markdown",
      "source": [
        "Untuk boxplot, hal paling penting yang harus kita perhatikan adalah keberadaan outlier.\n",
        "\n",
        "* Outlier terlihat hampir di setiap kolom kecuali condition\n",
        "* Dari boxplotnya terlihat mana distribusi yang terlihat skewed: year, odometer, mmr,sellingprice\n",
        "\n",
        "Kesimpulan:\n",
        "\n",
        "* Mobil keluaran tahun 1997 ke bawah dianggap data outlier.\n",
        "* Berdasarkan kondisi mobil, tidak ada yg termasuk data outlier\n",
        "* Mobil dgn total perjalanan lebih dari 2000 km termasuk data outlier.\n",
        "* Mobil dgn mmr lebih dari 35000 termasuk data outlier.\n",
        "* Mobil dgn harga jual lebih dari 35000 termasuk data outlier."
      ],
      "metadata": {
        "id": "FEuT70sRJOJ4"
      }
    },
    {
      "cell_type": "markdown",
      "source": [
        "# **Dist plots**"
      ],
      "metadata": {
        "id": "S281jshGJeUJ"
      }
    },
    {
      "cell_type": "code",
      "source": [
        "df.fillna(0, inplace=True)"
      ],
      "metadata": {
        "id": "oBN1JqLaJgEJ"
      },
      "execution_count": null,
      "outputs": []
    },
    {
      "cell_type": "code",
      "source": [
        "plt.figure(figsize=(12, 8))\n",
        "for i in range(0, len(nums)):\n",
        "    plt.subplot(3, len(nums)/2, i+1)\n",
        "    sns.distplot(df[nums[i]], color='gray')\n",
        "    plt.tight_layout()"
      ],
      "metadata": {
        "id": "ZCeAZYu3Jhqh"
      },
      "execution_count": null,
      "outputs": []
    },
    {
      "cell_type": "markdown",
      "source": [
        "Untuk distribution plot, hal utama yang perlu diperhatikan adalah bentuk distribusi:\n",
        "\n",
        "* Seperti dugaan kita ketika melihat boxplot di atas, kolom `year`, `odometer`, `mmr`, `sellingpric`e *skewed*\n",
        "\n",
        "Kesimpulan:\n",
        "\n",
        "* Berarti ada kemungkinan kita perlu melakukan sesuatu pada kolom2 tersebut nantinya\n",
        "* Selain kolom2 itu distribusinya terlihat normal-normal saja\n",
        "* Mayoritas tahun pembuatan mobil ada pada rentang 2007-2013. Mobil tertua yg dijual keluaran tahun 1982.\n",
        "* Mayoritas kondisi mobil yg dijual berada di kelas 3-4.\n",
        "* Mayoritas jarak tempuh mobil yg dijual adalah sebesar 100-1000 km. Mobil yg dijual dgn jarak tempuh terjauh adalah 10000 km.\n",
        "* Mayoritas harga jual mobil berada pada rentang 5000-15000. Harga tertinggi mobil adalah 235000."
      ],
      "metadata": {
        "id": "DXVHXCXaJj5v"
      }
    },
    {
      "cell_type": "markdown",
      "source": [
        "# **Violin plots**"
      ],
      "metadata": {
        "id": "LPo4Sw5eJuN8"
      }
    },
    {
      "cell_type": "code",
      "source": [
        "for i in range(0, len(nums)):\n",
        "    plt.subplot(1, len(nums), i+1)\n",
        "    sns.violinplot(y=df[nums[i]], color='gray', orient='v')\n",
        "    plt.tight_layout()"
      ],
      "metadata": {
        "id": "T9Aja_4cJ2qR"
      },
      "execution_count": null,
      "outputs": []
    },
    {
      "cell_type": "markdown",
      "source": [
        "Alternatif dari kedua plot di atas adalah violin plot. Dengan melihat violin plot di atas, *insight* yang kita temukan ketika melihat box plot dan distribution plot juga dapat diamati."
      ],
      "metadata": {
        "id": "pHl0qyVEJ5Ei"
      }
    },
    {
      "cell_type": "markdown",
      "source": [
        "# **Count plot (categorical)**"
      ],
      "metadata": {
        "id": "8V1o2Tr6J9wQ"
      }
    },
    {
      "cell_type": "code",
      "source": [
        "plt.figure(figsize=(14, 5))\n",
        "plt.subplot(1,3,1)\n",
        "sns.countplot(df['make'], color='gray', orient='v')\n",
        "plt.subplot(1,3,2)\n",
        "sns.countplot(df['model'], color='gray', orient='v')\n",
        "plt.subplot(1,3,3)\n",
        "sns.countplot(df['trim'], color='gray', orient='v')\n",
        "plt.tight_layout()"
      ],
      "metadata": {
        "id": "RCUggc2YJ_ma"
      },
      "execution_count": null,
      "outputs": []
    },
    {
      "cell_type": "code",
      "source": [
        "plt.figure(figsize=(14, 5))\n",
        "plt.subplot(1,2,1)\n",
        "sns.countplot(df['body'], color='gray', orient='v')\n",
        "plt.subplot(1,2,2)\n",
        "sns.countplot(df['transmission'], color='gray', orient='v')\n",
        "plt.tight_layout()"
      ],
      "metadata": {
        "id": "WyAeN7nSKBLC"
      },
      "execution_count": null,
      "outputs": []
    },
    {
      "cell_type": "markdown",
      "source": [
        "Berdasarkan count plot diatas,\n",
        "\n",
        "* untuk kategori transmisi, ditemukan bahwa, mobil dengan transmisi automatic menjadi mobil bekas yang paling dijual"
      ],
      "metadata": {
        "id": "9-Zzomt0KDBd"
      }
    },
    {
      "cell_type": "code",
      "source": [
        "plt.figure(figsize=(14, 5))\n",
        "plt.subplot(1,3,1)\n",
        "sns.countplot(df['state'], color='gray', orient='v')\n",
        "plt.subplot(1,3,2)\n",
        "sns.countplot(df['color'], color='gray', orient='v')\n",
        "plt.subplot(1,3,3)\n",
        "sns.countplot(df['interior'], color='gray', orient='v')\n",
        "plt.tight_layout()"
      ],
      "metadata": {
        "id": "4TVzbbeHKGUT"
      },
      "execution_count": null,
      "outputs": []
    },
    {
      "cell_type": "code",
      "source": [
        "plt.figure(figsize=(14, 5))\n",
        "plt.subplot(1,2,1)\n",
        "sns.countplot(df['seller'], color='gray', orient='v')\n",
        "plt.subplot(1,2,2)\n",
        "sns.countplot(df['saledate'], color='gray', orient='v')\n",
        "plt.tight_layout()"
      ],
      "metadata": {
        "id": "_qOHjEJrKIAE"
      },
      "execution_count": null,
      "outputs": []
    },
    {
      "cell_type": "markdown",
      "source": [
        "# **Bivariate Analysis**\n",
        "\n",
        "Setelah menilik setiap kolom secara individual, sekarang kita akan melihat hubungan antar kolom. Mengetahui hubungan antar kolom dapat membantu kita memilih fitur-fitur yang paling penting dan mengesampingkan feature yang redundan."
      ],
      "metadata": {
        "id": "374ESYAfKKhR"
      }
    },
    {
      "cell_type": "markdown",
      "source": [
        "# **Correlation heatmap**"
      ],
      "metadata": {
        "id": "HUx37CknKOXG"
      }
    },
    {
      "cell_type": "code",
      "source": [
        "df.corr()"
      ],
      "metadata": {
        "id": "LYwJqhOTKQM4"
      },
      "execution_count": null,
      "outputs": []
    },
    {
      "cell_type": "code",
      "source": [
        "plt.figure(figsize=(8, 8))\n",
        "sns.heatmap(df.corr(), cmap='Blues', annot=True, fmt='.2f')"
      ],
      "metadata": {
        "id": "d8sNAAv_KRvy"
      },
      "execution_count": null,
      "outputs": []
    },
    {
      "cell_type": "markdown",
      "source": [
        "Dari correlation heatmap di atas dapat dilihat bahwa:\n",
        "\n",
        "* Target kita sellingprice memiliki korelasi positif kuat dengan tahun\n",
        "* Memiliki korelasi positif sangat kuat dengan mmr, namun untuk kolom ini tidak akan digunakan maka di stage selanjutnya kolom mmr dapat didrop\n",
        "* `Condition` memberikan korelasi positif kuat dengan selling price dan mmr.\n",
        "* `Odometer` memiliki korelasi negatif kuat ke empat fitur lainnya"
      ],
      "metadata": {
        "id": "lwYHQ8KCKUXQ"
      }
    },
    {
      "cell_type": "markdown",
      "source": [
        "# **Pair plot**"
      ],
      "metadata": {
        "id": "B-G0zigFKfbV"
      }
    },
    {
      "cell_type": "code",
      "source": [
        "plt.figure(figsize=(15, 15))\n",
        "sns.pairplot(df, diag_kind='kde')"
      ],
      "metadata": {
        "id": "x_75UQOnKhMK"
      },
      "execution_count": null,
      "outputs": []
    },
    {
      "cell_type": "code",
      "source": [
        "df.sort_values(['odometer'], ascending=False)"
      ],
      "metadata": {
        "id": "o8Nu0FeVKj_s"
      },
      "execution_count": null,
      "outputs": []
    },
    {
      "cell_type": "code",
      "source": [
        "sns.lineplot(x=df['odometer'],y=df['sellingprice'])"
      ],
      "metadata": {
        "id": "LdwfIttWKlQT"
      },
      "execution_count": null,
      "outputs": []
    },
    {
      "cell_type": "markdown",
      "source": [
        "Jika pada plot odometer nilai maks 1 = 382k, maka dari plot tersebut sellingprice akan mulai menunjukan penurunan yang cukup signifikan di odometer dengan nilai 3820"
      ],
      "metadata": {
        "id": "naPl3Og_KnTY"
      }
    },
    {
      "cell_type": "markdown",
      "source": [
        "# **Category plots**\n",
        "Terakhir kita tampilkan *category plot* untuk setiap pasangan kategori *numeric* dan *categorical* seperti di bawah ini"
      ],
      "metadata": {
        "id": "MHCddLKuKpPF"
      }
    },
    {
      "cell_type": "code",
      "source": [
        "fig = plt.figure(figsize=(15, 15))\n",
        "for i in range(0, len(nums)): # untuk setiap kolom numerik\n",
        "    ax = fig.add_subplot(3, 3, i+1) # kita set posisi catplot/stripplotnya di layout\n",
        "    sns.stripplot(ax=ax, data=df, x='transmission', y=nums[i]) # gambar catplot/stripplotnya\n",
        "    plt.tight_layout() # layout\n",
        "\n",
        "    if i != 0: plt.close(i+1) # close figure \n",
        "\n",
        "    plt.close(len(nums) + 1) # close figure "
      ],
      "metadata": {
        "id": "gvVbWDG9K4F6"
      },
      "execution_count": null,
      "outputs": []
    },
    {
      "cell_type": "markdown",
      "source": [
        "Terlihat bahwa jenis transmission memiliki korelasi dengan kolom mmr dan selling price"
      ],
      "metadata": {
        "id": "XFG74HCEK7HT"
      }
    },
    {
      "cell_type": "code",
      "source": [
        "fig = plt.figure(figsize=(15, 15))\n",
        "for i in range(0, len(nums)):\n",
        "    ax = fig.add_subplot(3, 3, i+1)\n",
        "    sns.stripplot(ax=ax, data=df, x='color', y=nums[i])\n",
        "    plt.tight_layout()\n",
        "\n",
        "    if i != 0: plt.close(i+1)\n",
        "\n",
        "    plt.close(len(nums) + 1)"
      ],
      "metadata": {
        "id": "D6YGG4eDK8yE"
      },
      "execution_count": null,
      "outputs": []
    },
    {
      "cell_type": "code",
      "source": [
        "for i in range(0, len(nums)):\n",
        "    ax = fig.add_subplot(3, 3, i+1)\n",
        "    sns.stripplot(ax=ax, data=df, x='make', y=nums[i])\n",
        "    plt.tight_layout()\n",
        "\n",
        "    if i != 0: plt.close(i+1)\n",
        "\n",
        "    plt.close(len(nums) + 1)"
      ],
      "metadata": {
        "id": "8snKcYUMK-in"
      },
      "execution_count": null,
      "outputs": []
    },
    {
      "cell_type": "code",
      "source": [
        "fig = plt.figure(figsize=(15, 15))\n",
        "for i in range(0, len(nums)):\n",
        "    ax = fig.add_subplot(3, 3, i+1)\n",
        "    sns.stripplot(ax=ax, data=df, x='interior', y=nums[i])\n",
        "    plt.tight_layout()\n",
        "\n",
        "    if i != 0: plt.close(i+1)\n",
        "\n",
        "    plt.close(len(nums) + 1)"
      ],
      "metadata": {
        "id": "kxiit2AWK_8K"
      },
      "execution_count": null,
      "outputs": []
    },
    {
      "cell_type": "code",
      "source": [
        "fig = plt.figure(figsize=(15, 15))\n",
        "for i in range(0, len(nums)):\n",
        "    ax = fig.add_subplot(3, 3, i+1)\n",
        "    sns.stripplot(ax=ax, data=df, x='state', y=nums[i])\n",
        "    plt.tight_layout()\n",
        "\n",
        "    if i != 0: plt.close(i+1)\n",
        "\n",
        "    plt.close(len(nums) + 1)"
      ],
      "metadata": {
        "id": "oBvIIrgnLBr-"
      },
      "execution_count": null,
      "outputs": []
    },
    {
      "cell_type": "code",
      "source": [
        "fig = plt.figure(figsize=(15, 15))\n",
        "for i in range(0, len(nums)):\n",
        "    ax = fig.add_subplot(3, 3, i+1)\n",
        "    sns.stripplot(ax=ax, data=df, x='body', y=nums[i])\n",
        "    plt.tight_layout()\n",
        "\n",
        "    if i != 0: plt.close(i+1)\n",
        "\n",
        "    plt.close(len(nums) + 1)"
      ],
      "metadata": {
        "id": "NPysRrn_LDcw"
      },
      "execution_count": null,
      "outputs": []
    },
    {
      "cell_type": "markdown",
      "source": [
        "# **EDA Conclusion**\n",
        "\n",
        "Beberapa hal yang kita temukan dari EDA dataset ini adalah:\n",
        "\n",
        "* Data terlihat valid dan tidak ada kecacatan\n",
        "* Namun masih ada data-data yang kosong/hilang, harus diurus ketika preprocessing\n",
        "* Ada beberapa distribusi yang sedikit *skewed*, hal ini harus diingat apabila kita ingin melakukan sesuatu atau menggunakan model yang memerlukan asumsi distribusi normal\n",
        "* Beberapa *feature* memiliki korelasi yang jelas dengan target, mereka akan dipakai\n",
        "* Beberapa *feature* seperti vin, state, interior, trim, seller, mmr terlihat sama sekali tidak berkorelasi, mereka sebaiknya diabaikan"
      ],
      "metadata": {
        "id": "4nk-f0IPLFLD"
      }
    },
    {
      "cell_type": "markdown",
      "source": [
        "# **Dataset Overview & Business Insight**"
      ],
      "metadata": {
        "id": "vx2aOoMbLbRG"
      }
    },
    {
      "cell_type": "code",
      "source": [
        "df['pricesegmentation']=np.where(df['sellingprice']<10000,'low',np.where(df['sellingprice']>30000,'high','med'))\n",
        "order = ['low', 'med', 'high']\n",
        "sns.countplot(df['pricesegmentation'],order = order)\n",
        "plt.xlabel('Price Segmentation',fontsize=12)"
      ],
      "metadata": {
        "id": "9SaFW5KqLdQ0"
      },
      "execution_count": null,
      "outputs": []
    },
    {
      "cell_type": "markdown",
      "source": [
        "Dari segmentasi harga dapat disimpulkan bahwa mayoritas penjualan mobil bekas termasuk dalam kategori medium price."
      ],
      "metadata": {
        "id": "iTIkFAg_Lfoi"
      }
    },
    {
      "cell_type": "code",
      "source": [
        "jumlah_warna= df.groupby('color',as_index=False).agg(jumlah=('year','count'))\n",
        "\n",
        "warna_terbesar= jumlah_warna.query('jumlah>10000')\n",
        "\n",
        "warna_other= pd.Series(jumlah_warna.query('jumlah<=10000').sum())\n",
        "warna_other.iloc[0]='other'\n",
        "\n",
        "warna_gabungan= warna_terbesar.append(warna_other, ignore_index=True)\n",
        "warna_gabungan.sort_values(by=['jumlah'], inplace=True,ascending=False)\n",
        "plt.bar(data= warna_gabungan, x='color', height='jumlah',color=['black', 'whitesmoke', 'silver', 'gray', 'blue','red','whitesmoke','whitesmoke','green','gold'])\n",
        "plt.xlabel('Color',fontsize=12)\n",
        "plt.ylabel('Jumlah',fontsize=12)\n",
        "nama = ('black', 'white', 'silver', 'gray', 'blue','red','other','unknown','green','gold')\n",
        "plt.xticks(warna_gabungan['color'], nama)\n",
        "ax = plt.axes()\n",
        "ax.set_facecolor('#0198a3')"
      ],
      "metadata": {
        "id": "VDRZS4A1Lhi-"
      },
      "execution_count": null,
      "outputs": []
    },
    {
      "cell_type": "markdown",
      "source": [
        "Dari Bar Chart diatas warna yang memiliki banyak peminatnya yaitu warna hitam dengan total 93245. Lalu, di ikuti oleh warna putih dan silver."
      ],
      "metadata": {
        "id": "uzmDikchLjyU"
      }
    },
    {
      "cell_type": "code",
      "source": [
        "df['transmission'].value_counts().plot.pie(explode=[0.05, 0.5], autopct='%1.1f%%', figsize=(6,6),fontsize=12)\n",
        "plt.title('Car Transmission',fontsize=16, fontweight='bold')\n",
        "plt.ylabel(None)\n",
        "plt.show()"
      ],
      "metadata": {
        "id": "EKA8NC-mLlgg"
      },
      "execution_count": null,
      "outputs": []
    },
    {
      "cell_type": "markdown",
      "source": [
        "Dilihat dari grafik transmission ini bahwa sebagian besar dari transmisi adalah automatic"
      ],
      "metadata": {
        "id": "N2sS3ZMNLn0I"
      }
    },
    {
      "cell_type": "code",
      "source": [
        "df=df.dropna()\n",
        "df.body = df.body.str.lower()\n",
        "len(df.body.unique())\n",
        "\n",
        "body_list=[]\n",
        "\n",
        "for index,kolom in df.iterrows():\n",
        "  body=kolom['body']\n",
        "  if body.endswith('cab')==True:\n",
        "    bodies= 'cab'\n",
        "  elif body.startswith('cab')==True:\n",
        "    bodies= 'cab'\n",
        "  elif body.endswith('coupe')==True:\n",
        "    bodies= 'coupe'\n",
        "  elif body.endswith('koup')==True:\n",
        "    bodies= 'coupe'\n",
        "  elif body.endswith('van')==True:\n",
        "    bodies= 'van'\n",
        "  elif body.endswith('wagon')==True:\n",
        "    bodies= 'wagon'\n",
        "  elif body.endswith('convertible')==True:\n",
        "    bodies= 'convertible'\n",
        "  elif body.endswith('suv')==True:\n",
        "    bodies= 'suv'\n",
        "  elif body.endswith('sedan')==True:\n",
        "    bodies= 'sedan'\n",
        "  elif body.endswith('hatchback')==True:\n",
        "    bodies= 'hatchback'\n",
        "  else:\n",
        "    bodies='others'\n",
        "  body_list.append(bodies)\n",
        "\n",
        "df['body']=body_list"
      ],
      "metadata": {
        "id": "zfSaAus7LqoS"
      },
      "execution_count": null,
      "outputs": []
    },
    {
      "cell_type": "code",
      "source": [
        "plt.figure(figsize=(14,8))\n",
        "sns.countplot(y='body', data=df,order=pd.value_counts(df['body']).index)\n",
        "for i, v in enumerate(pd.value_counts(df['body']).iloc[:9]):\n",
        "    plt.text(v+100, i, str(v), color='blue')\n",
        "plt.xlabel('Total of Car',fontsize=12)\n",
        "plt.ylabel('Body',fontsize=12)\n",
        "plt.title('Top Used Cars Sold (Body)',fontsize=16, fontweight='bold')\n",
        "plt.show()"
      ],
      "metadata": {
        "id": "2GCc1JFkLnW6"
      },
      "execution_count": null,
      "outputs": []
    },
    {
      "cell_type": "markdown",
      "source": [
        "Setelah kolom body distandardize , maka diketahui bahwa konsumen lebih tertarik untuk membeli mobil berjenis sedan jika dibandingkan dengan yang lainnya."
      ],
      "metadata": {
        "id": "pxu4E8UMLuCd"
      }
    },
    {
      "cell_type": "code",
      "source": [
        "df.make = df.make.str.lower()\n",
        "\n",
        "def brand_top10list(x):\n",
        "  if x['make'] == 'ford':\n",
        "    brand_top10list = 'ford'\n",
        "  elif x['make'] == 'chevrolet':\n",
        "    brand_top10list = 'chevrolet'\n",
        "  elif x['make'] == 'nissan':\n",
        "    brand_top10list = 'nissan'\n",
        "  elif x['make'] == 'toyota':\n",
        "    brand_top10list = 'toyota'\n",
        "  elif x['make'] == 'dodge':\n",
        "    brand_top10list = 'dodge'\n",
        "  elif x['make'] == 'honda':\n",
        "    brand_top10list = 'honda'\n",
        "  elif x['make'] == 'hyundai':\n",
        "    brand_top10list = 'hyundai'\n",
        "  elif x['make'] == 'bmw':\n",
        "    brand_top10list = 'bmw'\n",
        "  elif x['make'] == 'kia':\n",
        "    brand_top10list = 'kia'\n",
        "  elif x['make'] == 'chrysler':\n",
        "    brand_top10list = 'chrysler'\n",
        "  elif x['make'] == 'infiniti':\n",
        "    brand_top10list = 'infiniti'\n",
        "  elif x['make'] == 'mercedes-benz':\n",
        "    brand_top10list = 'merce'\n",
        "  elif x['make'] == 'jeep':\n",
        "    brand_top10list = 'jeep'\n",
        "  elif x['make'] == 'volkswagen':\n",
        "    brand_top10list = 'volkswagen'\n",
        "  elif x['make'] == 'lexus':\n",
        "    brand_top10list = 'lexus'\n",
        "  elif x['make'] == 'gmc':\n",
        "    brand_top10list = 'gmc'\n",
        "  elif x['make'] == 'mazda':\n",
        "    brand_top10list = 'mazda'\n",
        "  elif x['make'] == 'lincoln':\n",
        "    brand_top10list = 'lincoln'\n",
        "  elif x['make'] == 'audi':\n",
        "    brand_top10list = 'audi'\n",
        "  else:\n",
        "    brand_top10list = 'others'\n",
        "  return brand_top10list\n",
        "\n",
        "df['top_20_brand'] = df.apply(lambda x: brand_top10list(x), axis=1)"
      ],
      "metadata": {
        "id": "43ntU8TsLvqj"
      },
      "execution_count": null,
      "outputs": []
    },
    {
      "cell_type": "code",
      "source": [
        "plt.figure(figsize=(14,8))\n",
        "sns.countplot(y='top_20_brand', data=df,order=pd.value_counts(df['top_20_brand']).index)\n",
        "for i, v in enumerate(pd.value_counts(df['top_20_brand']).iloc[:20]):\n",
        "    plt.text(v+100, i, str(v), color='blue')\n",
        "plt.xlabel('Total of Car',fontsize=12)\n",
        "plt.ylabel('Make',fontsize=12)\n",
        "plt.title('Top 20 Used Cars Sold (Make)',fontsize=16, fontweight='bold')\n",
        "plt.show()"
      ],
      "metadata": {
        "id": "VJi_vAqcLxkO"
      },
      "execution_count": null,
      "outputs": []
    },
    {
      "cell_type": "markdown",
      "source": [
        "* Dengan mengambil 20 penjualan teratas dari kolom make ke kolom top_20_brand, maka akan memasukan beberapa kategori brand(make) yang memiliki nilai jual tinggi dan penjualan yang cukup banyak. Seperti kategori BMW.\n",
        "* Dari plot histogram, mengambil 20 brand dengan penjualan terbanyak untuk stage selanjutnya dirasa cukup sesuai, karena jika diambil 10 brand maka akan ada beberapa penjualan yang cukup laris dan memiliki range price low - high masuk kedalam kategori others"
      ],
      "metadata": {
        "id": "Q0I8vWICLzYK"
      }
    },
    {
      "cell_type": "code",
      "source": [
        "top_make=df['make'].value_counts()[:10].index\n",
        "fig,ax=plt.subplots(5,2,figsize=(14,20))\n",
        "color_list=['#0a9396','#ca6702','#ae2012','#9b2226','#001219','#005f73','#94d2bd','#e9d8a6','#e5e5e5','#e07a5f'] #coolors.co\n",
        "i=0\n",
        "for t in top_make:\n",
        "    df.loc[df['make']==t,'sellingprice'].hist(ax=ax[i%5][i//5],bins=100,color=np.random.choice(color_list,replace=False))\n",
        "    ax[i%5][i//5].set_xlabel('Selling Price',fontsize=10)\n",
        "    ax[i%5][i//5].set_ylabel('Frequency',fontsize=10)\n",
        "    ax[i%5][i//5].set_title(f'Selling price distribution for {t}',fontsize=15)\n",
        "    plt.subplots_adjust(hspace=0.45)\n",
        "    i+=1"
      ],
      "metadata": {
        "id": "A9bCSFj_L3ZQ"
      },
      "execution_count": null,
      "outputs": []
    },
    {
      "cell_type": "code",
      "source": [
        "graph = sns.FacetGrid(df, col =\"body\",col_wrap=3)\n",
        "graph.map(plt.scatter, \"odometer\", \"sellingprice\", edgecolor =\"w\").add_legend()\n",
        "plt.show()"
      ],
      "metadata": {
        "id": "StNrehoVL5lX"
      },
      "execution_count": null,
      "outputs": []
    },
    {
      "cell_type": "code",
      "source": [
        "graph = sns.FacetGrid(df, col =\"transmission\")\n",
        "graph.map(plt.scatter, \"odometer\", \"sellingprice\", edgecolor =\"w\").add_legend()\n",
        "plt.show()\n"
      ],
      "metadata": {
        "id": "_pfJkKELL7ju"
      },
      "execution_count": null,
      "outputs": []
    },
    {
      "cell_type": "code",
      "source": [
        "graph = sns.FacetGrid(df, col =\"top_20_brand\",col_wrap=3)\n",
        "graph.map(plt.scatter, \"odometer\", \"sellingprice\", edgecolor =\"w\").add_legend()\n",
        "plt.show()"
      ],
      "metadata": {
        "id": "AYEQ1aKYL82Y"
      },
      "execution_count": null,
      "outputs": []
    },
    {
      "cell_type": "code",
      "source": [
        "def drop_val(col):\n",
        "    idx_to_drop = []\n",
        "    for i in col.index:\n",
        "        idx_to_drop.append(i)\n",
        "\n",
        "    df.drop(idx_to_drop,inplace=True)\n",
        "    df.reset_index(drop=True,inplace=True)\n",
        "    \n",
        "fixed_date = []\n",
        "for i in range(len(df['saledate'])):\n",
        "    date = df.saledate[i][:15]\n",
        "    fixed_date.append(date)\n",
        "    \n",
        "df['saledate'] = fixed_date\n",
        "df['saledate'] = pd.to_datetime(df['saledate'])\n",
        "date_not_use = df[(df['saledate'] < '2014-12-01')]  # Deleting this data because there aren't enough data for that range of date \n",
        "drop_val(date_not_use)    "
      ],
      "metadata": {
        "id": "iL-XGmIUL-j2"
      },
      "execution_count": null,
      "outputs": []
    },
    {
      "cell_type": "code",
      "source": [
        "median_saledate = df.groupby(df['saledate'].dt.strftime('%Y-%m')).median()\n",
        "plt.figure(figsize=(18,6))\n",
        "plt.title('Selling Price of Used Car by Month of Year',fontsize=16, fontweight='bold')\n",
        "sns.pointplot(x=median_saledate.index,y=median_saledate['sellingprice'], data=median_saledate,ci=None)\n",
        "for i, v in enumerate(median_saledate['sellingprice']):\n",
        "    if v >= np.median(median_saledate['sellingprice']):\n",
        "        plt.text(i-0.1, v+500, str(v), color='green', fontweight='bold')\n",
        "    else:\n",
        "        plt.text(i-0.1, v-1000, str(v), color='red', fontweight='bold')\n",
        "                    \n",
        "plt.axhline(np.median(median_saledate['sellingprice']),color='blue', linestyle='--', label='median')\n",
        "plt.ylabel ('Selling Price',fontsize=12)\n",
        "plt.xlabel('Sale Month',fontsize=12)\n",
        "plt.ylim(0,20000)\n",
        "plt.legend()\n",
        "plt.show()"
      ],
      "metadata": {
        "id": "8kyyMtHVMADf"
      },
      "execution_count": null,
      "outputs": []
    },
    {
      "cell_type": "code",
      "source": [
        "yr_gb = df.groupby(df['saledate'].dt.strftime('%Y-%m')).count()\n",
        "plt.figure(figsize=(18,6))\n",
        "plt.title('Amount Used Car Sold by Month of Year',fontsize=16, fontweight='bold')\n",
        "sns.pointplot(x=yr_gb.index,y=yr_gb['make'], data=yr_gb,ci=None)\n",
        "for i, v in enumerate(yr_gb['make']):\n",
        "    if v >= np.mean(yr_gb['make']):\n",
        "        plt.text(i-0.1, v+5000, str(v), color='green', fontweight='bold')\n",
        "    else:\n",
        "        plt.text(i-0.1, v+5000, str(v), color='red', fontweight='bold')\n",
        "                    \n",
        "plt.axhline(np.mean(yr_gb['make']),color='blue', linestyle='--', label='mean')\n",
        "plt.ylabel ('Total Number of Transaction',fontsize=12)\n",
        "plt.xlabel('Sale Month',fontsize=12)\n",
        "plt.ylim(0,200000)\n",
        "plt.legend()\n",
        "plt.show()"
      ],
      "metadata": {
        "id": "6p6JvvX-MCV7"
      },
      "execution_count": null,
      "outputs": []
    },
    {
      "cell_type": "code",
      "source": [
        "df['combined'] = df['make'].str.cat(df[['model','trim']].astype(str), sep=' ')\n",
        "plt.figure(figsize=(14,8))\n",
        "sns.countplot(y='combined',data=df,order=pd.value_counts(df['combined']).iloc[:10].index)\n",
        "for i, v in enumerate(pd.value_counts(df['combined']).iloc[:10]):\n",
        "    plt.text(v+100, i, str(v), color='blue')\n",
        "plt.xlabel('Total of Car',fontsize=12)\n",
        "plt.ylabel('Car',fontsize=12)\n",
        "plt.title('Top 10 Used Cars Sold',fontsize=16, fontweight='bold')\n",
        "plt.show()"
      ],
      "metadata": {
        "id": "IrIpSNYnMERB"
      },
      "execution_count": null,
      "outputs": []
    },
    {
      "cell_type": "code",
      "source": [
        "df_sort=df.sort_values(by='sellingprice',ascending=False,ignore_index=True)\n",
        "df_sort=df_sort.iloc[1:20]\n",
        "plt.figure(figsize=(14,8))\n",
        "sns.barplot(y='combined',x='sellingprice',data=df_sort)\n",
        "plt.xlabel('Price',fontsize=12)\n",
        "plt.ylabel('Car',fontsize=12)\n",
        "plt.title('Top 10 Most Expensive Car',fontsize=16, fontweight='bold')\n",
        "plt.show()"
      ],
      "metadata": {
        "id": "l_9eZMojMFum"
      },
      "execution_count": null,
      "outputs": []
    },
    {
      "cell_type": "code",
      "source": [
        "df_sort=df.sort_values(by='sellingprice',ascending=True,ignore_index=True)\n",
        "df_sort=df_sort[~(df_sort['sellingprice'] < 1300) ]\n",
        "df_sort=df_sort.iloc[:10]\n",
        "plt.figure(figsize=(14,8))\n",
        "sns.barplot(y='combined',x='sellingprice',data=df_sort)\n",
        "plt.xlabel('Price',fontsize=12)\n",
        "plt.ylabel('Car',fontsize=12)\n",
        "plt.title('Top 10 Cheapest Car',fontsize=16, fontweight='bold')\n",
        "plt.show()"
      ],
      "metadata": {
        "id": "_Yypm-eFMHGp"
      },
      "execution_count": null,
      "outputs": []
    },
    {
      "cell_type": "code",
      "source": [
        "fig, ax =plt.subplots(1,2, figsize=(10,6))\n",
        "sns.barplot(df['color'].value_counts().iloc[:5].index,df['color'].value_counts().iloc[:5],color='lightgreen', ax=ax[0])\n",
        "for i, v in enumerate(df['color'].value_counts().iloc[:5]):\n",
        "    ax[0].text(i-0.15, v+1000, str(v), color='brown', fontweight='bold')\n",
        "sns.barplot(df['interior'].value_counts().iloc[:5].index,df['interior'].value_counts().iloc[:5],color='lightblue', ax=ax[1])\n",
        "for i, v in enumerate(df['interior'].value_counts().iloc[:5]):\n",
        "    ax[1].text(i-0.15, v+1000, str(v), color='brown', fontweight='bold')\n",
        "ax[0].set_title('Top 5 Number of Body Car Colors',fontsize = 16, fontweight='bold')\n",
        "ax[0].set_xlabel('Colors',fontsize = 12)\n",
        "ax[0].set_ylabel(None)\n",
        "ax[1].set_title('Top 5 Number of Interior Car Colors',fontsize = 16, fontweight='bold')\n",
        "ax[1].set_xlabel('Colors',fontsize = 12)\n",
        "ax[1].set_ylabel(None)\n",
        "ax[0].set_ylim(0,250000)\n",
        "ax[1].set_ylim(0,250000)\n",
        "fig.show()\n",
        "\n",
        "plt.subplots_adjust(right = 1.5)"
      ],
      "metadata": {
        "id": "WyZY2KfqMI1-"
      },
      "execution_count": null,
      "outputs": []
    },
    {
      "cell_type": "code",
      "source": [
        "df_clean=df.dropna()\n",
        "df_groupby=df_clean.groupby(by='year').mean().reset_index()\n",
        "sns.barplot(x='year',y='sellingprice',data=df_groupby)\n",
        "plt.xticks(rotation=90)\n",
        "plt.xlabel('Year',fontsize=12)\n",
        "plt.ylabel('Price',fontsize=12)\n",
        "plt.title('Average Used Car Price per Year',fontsize=16, fontweight='bold')\n",
        "plt.show();"
      ],
      "metadata": {
        "id": "1vZ_1qWnMKf2"
      },
      "execution_count": null,
      "outputs": []
    },
    {
      "cell_type": "code",
      "source": [
        "dfbody = pd.DataFrame({'Percentage': [39,22,6,5,4,24]},\n",
        "                  index=['Sedan', 'SUV',\n",
        "                              'Cab', 'Van','Hatchback','Other'])\n",
        "dfbody.plot.pie(y='Percentage', autopct='%1.0f%%', figsize=(8,8),fontsize=12)\n",
        "plt.title('Top 5 Body',fontsize=16, fontweight='bold')\n",
        "plt.ylabel(None)\n",
        "plt.show()"
      ],
      "metadata": {
        "id": "Is507nzSML68"
      },
      "execution_count": null,
      "outputs": []
    },
    {
      "cell_type": "code",
      "source": [
        "dfmake = pd.DataFrame({'Percentage': [17,11,9,7,6,50]},\n",
        "                  index=['Ford', 'Chevrolet',\n",
        "                              'Nissan', 'Toyota','Dodge','Other'])\n",
        "dfmake.plot.pie(y='Percentage', autopct='%1.0f%%', figsize=(8,8),fontsize=12)\n",
        "plt.title('Top 5 Make',fontsize=16, fontweight='bold')\n",
        "plt.ylabel(None)\n",
        "plt.show()"
      ],
      "metadata": {
        "id": "S7mcNuT8MOhk"
      },
      "execution_count": null,
      "outputs": []
    },
    {
      "cell_type": "code",
      "source": [
        "dfcolor = pd.DataFrame({'Percentage': [20,19,15,14,9,23]},\n",
        "                  index=['Black', 'White',\n",
        "                              'Silver', 'Gray','Blue','Other'])\n",
        "colors = ['#696969', '#FFFFFF', '#C0C0C0', '#d3d3d3','#1e90ff','#EADDCA']\n",
        "dfcolor.plot.pie(y='Percentage', autopct='%1.0f%%', figsize=(8,8),fontsize=12,colors=colors)\n",
        "plt.title('Top 5 Color',fontsize=16, fontweight='bold')\n",
        "plt.ylabel(None)\n",
        "plt.show()"
      ],
      "metadata": {
        "id": "OmH8G6O7MP7n"
      },
      "execution_count": null,
      "outputs": []
    },
    {
      "cell_type": "markdown",
      "source": [
        "**Stage 2 Final Project - Data Pre-processing**"
      ],
      "metadata": {
        "id": "awVIzX_0MuSV"
      }
    },
    {
      "cell_type": "code",
      "source": [
        "import numpy as np\n",
        "import pandas as pd\n",
        "import matplotlib.pyplot as plt\n",
        "import seaborn as sns"
      ],
      "metadata": {
        "id": "d-cukRwfMwyM"
      },
      "execution_count": null,
      "outputs": []
    }
  ]
}